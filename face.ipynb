{
 "cells": [
  {
   "cell_type": "markdown",
   "metadata": {},
   "source": [
    "# Importing Required Modules"
   ]
  },
  {
   "cell_type": "code",
   "execution_count": 224,
   "metadata": {},
   "outputs": [],
   "source": [
    "import cv2\n",
    "import numpy as np\n",
    "import requests\n",
    "from sklearn.svm import SVC\n",
    "from sklearn.metrics import accuracy_score\n",
    "from sklearn.decomposition import PCA\n",
    "from sklearn.model_selection import train_test_split\n"
   ]
  },
  {
   "cell_type": "markdown",
   "metadata": {},
   "source": [
    "# Downloading the HAAR Data File"
   ]
  },
  {
   "cell_type": "code",
   "execution_count": 225,
   "metadata": {},
   "outputs": [],
   "source": [
    "def gethaar(url=\"https://raw.githubusercontent.com/opencv/opencv/22f0bcaf8f4fb406ae251830cf99b7ea05de40e4/data/haarcascades/haarcascade_frontalface_default.xml\"):    \n",
    "    haar = requests.get(url)\n",
    "    return haar"
   ]
  },
  {
   "cell_type": "markdown",
   "metadata": {},
   "source": [
    "# Saving the HAAR Data File"
   ]
  },
  {
   "cell_type": "code",
   "execution_count": 226,
   "metadata": {},
   "outputs": [],
   "source": [
    "def savehaar(haar):\n",
    "    datafile = open(\"data.xml\", \"wb\")\n",
    "    datafile.write(haar.content)\n",
    "    datafile.close()"
   ]
  },
  {
   "cell_type": "markdown",
   "metadata": {},
   "source": [
    "# Using the Classifier to get the Face Cooridinate"
   ]
  },
  {
   "cell_type": "code",
   "execution_count": 227,
   "metadata": {},
   "outputs": [],
   "source": [
    "def classify():\n",
    "    haar_data = cv2.CascadeClassifier('data.xml')\n",
    "    return haar_data"
   ]
  },
  {
   "cell_type": "markdown",
   "metadata": {},
   "source": [
    "# Using the Default Video Capture Device"
   ]
  },
  {
   "cell_type": "code",
   "execution_count": 228,
   "metadata": {},
   "outputs": [],
   "source": [
    "def setcam():\n",
    "    capture = cv2.VideoCapture(0)\n",
    "    return capture\n",
    "def releasecam(capture):\n",
    "    capture.release()"
   ]
  },
  {
   "cell_type": "markdown",
   "metadata": {},
   "source": [
    "# Storing the Mask And Umasked Data / Predict"
   ]
  },
  {
   "cell_type": "code",
   "execution_count": 229,
   "metadata": {},
   "outputs": [],
   "source": [
    "# capture = setcam()\n",
    "# flag, img = capture.read()\n",
    "# haar_data = classify()\n",
    "# data = []\n",
    "# while len(data)!=3:\n",
    "#     faces = haar_data.detectMultiScale(img)\n",
    "#     for x, y, w, h in faces: \n",
    "#         face = img[y:y+h, x:x+w, :]\n",
    "#         face = cv2.resize(face, (50, 50))\n",
    "#         data.append(face)\n",
    "# np.save(\"tempdata.npy\", data)\n",
    "# facer = np.load(\"tempdata.npy\")\n",
    "# facer = facer.reshape(-1, 3)\n",
    "# print(facer)\n",
    "# facer = fit(facer)\n",
    "# print(facer)\n"
   ]
  },
  {
   "cell_type": "code",
   "execution_count": 249,
   "metadata": {},
   "outputs": [
    {
     "ename": "ValueError",
     "evalue": "n_components=3 must be between 0 and min(n_samples, n_features)=1 with svd_solver='full'",
     "output_type": "error",
     "traceback": [
      "\u001b[1;31m---------------------------------------------------------------------------\u001b[0m",
      "\u001b[1;31mValueError\u001b[0m                                Traceback (most recent call last)",
      "\u001b[1;32m~\\AppData\\Local\\Temp/ipykernel_17160/197482781.py\u001b[0m in \u001b[0;36m<module>\u001b[1;34m\u001b[0m\n\u001b[0;32m     15\u001b[0m     \u001b[1;31m# face = fit(face)\u001b[0m\u001b[1;33m\u001b[0m\u001b[1;33m\u001b[0m\u001b[0m\n\u001b[0;32m     16\u001b[0m     \u001b[0mpca\u001b[0m \u001b[1;33m=\u001b[0m \u001b[0mPCA\u001b[0m\u001b[1;33m(\u001b[0m\u001b[0mn_components\u001b[0m\u001b[1;33m=\u001b[0m\u001b[1;36m3\u001b[0m\u001b[1;33m)\u001b[0m\u001b[1;33m\u001b[0m\u001b[1;33m\u001b[0m\u001b[0m\n\u001b[1;32m---> 17\u001b[1;33m     \u001b[0mface\u001b[0m \u001b[1;33m=\u001b[0m \u001b[0mpca\u001b[0m\u001b[1;33m.\u001b[0m\u001b[0mfit\u001b[0m\u001b[1;33m(\u001b[0m\u001b[0mface\u001b[0m\u001b[1;33m)\u001b[0m\u001b[1;33m\u001b[0m\u001b[1;33m\u001b[0m\u001b[0m\n\u001b[0m\u001b[0;32m     18\u001b[0m     \u001b[0mprint\u001b[0m\u001b[1;33m(\u001b[0m\u001b[0mface\u001b[0m\u001b[1;33m)\u001b[0m\u001b[1;33m\u001b[0m\u001b[1;33m\u001b[0m\u001b[0m\n\u001b[0;32m     19\u001b[0m \u001b[0mreleasecam\u001b[0m\u001b[1;33m(\u001b[0m\u001b[0mcapture\u001b[0m\u001b[1;33m)\u001b[0m\u001b[1;33m\u001b[0m\u001b[1;33m\u001b[0m\u001b[0m\n",
      "\u001b[1;32m~\\AppData\\Local\\Packages\\PythonSoftwareFoundation.Python.3.9_qbz5n2kfra8p0\\LocalCache\\local-packages\\Python39\\site-packages\\sklearn\\decomposition\\_pca.py\u001b[0m in \u001b[0;36mfit\u001b[1;34m(self, X, y)\u001b[0m\n\u001b[0;32m    380\u001b[0m             \u001b[0mReturns\u001b[0m \u001b[0mthe\u001b[0m \u001b[0minstance\u001b[0m \u001b[0mitself\u001b[0m\u001b[1;33m.\u001b[0m\u001b[1;33m\u001b[0m\u001b[1;33m\u001b[0m\u001b[0m\n\u001b[0;32m    381\u001b[0m         \"\"\"\n\u001b[1;32m--> 382\u001b[1;33m         \u001b[0mself\u001b[0m\u001b[1;33m.\u001b[0m\u001b[0m_fit\u001b[0m\u001b[1;33m(\u001b[0m\u001b[0mX\u001b[0m\u001b[1;33m)\u001b[0m\u001b[1;33m\u001b[0m\u001b[1;33m\u001b[0m\u001b[0m\n\u001b[0m\u001b[0;32m    383\u001b[0m         \u001b[1;32mreturn\u001b[0m \u001b[0mself\u001b[0m\u001b[1;33m\u001b[0m\u001b[1;33m\u001b[0m\u001b[0m\n\u001b[0;32m    384\u001b[0m \u001b[1;33m\u001b[0m\u001b[0m\n",
      "\u001b[1;32m~\\AppData\\Local\\Packages\\PythonSoftwareFoundation.Python.3.9_qbz5n2kfra8p0\\LocalCache\\local-packages\\Python39\\site-packages\\sklearn\\decomposition\\_pca.py\u001b[0m in \u001b[0;36m_fit\u001b[1;34m(self, X)\u001b[0m\n\u001b[0;32m    455\u001b[0m         \u001b[1;31m# Call different fits for either full or truncated SVD\u001b[0m\u001b[1;33m\u001b[0m\u001b[1;33m\u001b[0m\u001b[0m\n\u001b[0;32m    456\u001b[0m         \u001b[1;32mif\u001b[0m \u001b[0mself\u001b[0m\u001b[1;33m.\u001b[0m\u001b[0m_fit_svd_solver\u001b[0m \u001b[1;33m==\u001b[0m \u001b[1;34m\"full\"\u001b[0m\u001b[1;33m:\u001b[0m\u001b[1;33m\u001b[0m\u001b[1;33m\u001b[0m\u001b[0m\n\u001b[1;32m--> 457\u001b[1;33m             \u001b[1;32mreturn\u001b[0m \u001b[0mself\u001b[0m\u001b[1;33m.\u001b[0m\u001b[0m_fit_full\u001b[0m\u001b[1;33m(\u001b[0m\u001b[0mX\u001b[0m\u001b[1;33m,\u001b[0m \u001b[0mn_components\u001b[0m\u001b[1;33m)\u001b[0m\u001b[1;33m\u001b[0m\u001b[1;33m\u001b[0m\u001b[0m\n\u001b[0m\u001b[0;32m    458\u001b[0m         \u001b[1;32melif\u001b[0m \u001b[0mself\u001b[0m\u001b[1;33m.\u001b[0m\u001b[0m_fit_svd_solver\u001b[0m \u001b[1;32min\u001b[0m \u001b[1;33m[\u001b[0m\u001b[1;34m\"arpack\"\u001b[0m\u001b[1;33m,\u001b[0m \u001b[1;34m\"randomized\"\u001b[0m\u001b[1;33m]\u001b[0m\u001b[1;33m:\u001b[0m\u001b[1;33m\u001b[0m\u001b[1;33m\u001b[0m\u001b[0m\n\u001b[0;32m    459\u001b[0m             \u001b[1;32mreturn\u001b[0m \u001b[0mself\u001b[0m\u001b[1;33m.\u001b[0m\u001b[0m_fit_truncated\u001b[0m\u001b[1;33m(\u001b[0m\u001b[0mX\u001b[0m\u001b[1;33m,\u001b[0m \u001b[0mn_components\u001b[0m\u001b[1;33m,\u001b[0m \u001b[0mself\u001b[0m\u001b[1;33m.\u001b[0m\u001b[0m_fit_svd_solver\u001b[0m\u001b[1;33m)\u001b[0m\u001b[1;33m\u001b[0m\u001b[1;33m\u001b[0m\u001b[0m\n",
      "\u001b[1;32m~\\AppData\\Local\\Packages\\PythonSoftwareFoundation.Python.3.9_qbz5n2kfra8p0\\LocalCache\\local-packages\\Python39\\site-packages\\sklearn\\decomposition\\_pca.py\u001b[0m in \u001b[0;36m_fit_full\u001b[1;34m(self, X, n_components)\u001b[0m\n\u001b[0;32m    473\u001b[0m                 )\n\u001b[0;32m    474\u001b[0m         \u001b[1;32melif\u001b[0m \u001b[1;32mnot\u001b[0m \u001b[1;36m0\u001b[0m \u001b[1;33m<=\u001b[0m \u001b[0mn_components\u001b[0m \u001b[1;33m<=\u001b[0m \u001b[0mmin\u001b[0m\u001b[1;33m(\u001b[0m\u001b[0mn_samples\u001b[0m\u001b[1;33m,\u001b[0m \u001b[0mn_features\u001b[0m\u001b[1;33m)\u001b[0m\u001b[1;33m:\u001b[0m\u001b[1;33m\u001b[0m\u001b[1;33m\u001b[0m\u001b[0m\n\u001b[1;32m--> 475\u001b[1;33m             raise ValueError(\n\u001b[0m\u001b[0;32m    476\u001b[0m                 \u001b[1;34m\"n_components=%r must be between 0 and \"\u001b[0m\u001b[1;33m\u001b[0m\u001b[1;33m\u001b[0m\u001b[0m\n\u001b[0;32m    477\u001b[0m                 \u001b[1;34m\"min(n_samples, n_features)=%r with \"\u001b[0m\u001b[1;33m\u001b[0m\u001b[1;33m\u001b[0m\u001b[0m\n",
      "\u001b[1;31mValueError\u001b[0m: n_components=3 must be between 0 and min(n_samples, n_features)=1 with svd_solver='full'"
     ]
    }
   ],
   "source": [
    "load()\n",
    "reshape()\n",
    "X = combine(with_mask, without_mask)\n",
    "labels = divide(X)\n",
    "X = fit(X)\n",
    "svm = train(X, labels)\n",
    "capture = setcam()\n",
    "flag, img = capture.read()\n",
    "haar_data = classify()\n",
    "faces = haar_data.detectMultiScale(img)\n",
    "for x, y, w, h in faces: \n",
    "    face = img[y:y+h, x:x+w, :]\n",
    "    face = cv2.resize(face, (50, 50))\n",
    "    face = face.reshape(1, -1)\n",
    "    # face = fit(face)\n",
    "    pca = PCA(n_components=3)\n",
    "    face = pca.fit(face)\n",
    "    print(face)\n",
    "releasecam(capture)"
   ]
  },
  {
   "cell_type": "code",
   "execution_count": 231,
   "metadata": {},
   "outputs": [],
   "source": [
    "def facedata(haar_data, data=[], predicting=False):\n",
    "    capture = setcam()\n",
    "    font = cv2.FONT_HERSHEY_COMPLEX\n",
    "    names = {0: 'Mask', 1: 'No Mask'}\n",
    "    prepared = False\n",
    "    while True:\n",
    "        flag, img = capture.read()\n",
    "        if flag:\n",
    "            faces = haar_data.detectMultiScale(img)\n",
    "            for x, y, w, h in faces:\n",
    "                if not predicting:\n",
    "                    cv2.rectangle(img, (x,y), (x+w, y+h), (255,0,255), 4)\n",
    "                face = img[y:y+h, x:x+w, :]\n",
    "                face = cv2.resize(face, (50, 50))\n",
    "                if predicting:\n",
    "                    if not prepared:\n",
    "                        load()\n",
    "                        reshape()\n",
    "                        X = combine(with_mask, without_mask)\n",
    "                        labels = divide(X)\n",
    "                        X = fit(X)\n",
    "                        svm = train(X, labels)\n",
    "                        prepared = True\n",
    "                    face = fit(face[0])\n",
    "                    pred = svm.predict(face)[0]\n",
    "                    n = names[int(pred)]\n",
    "                    if n == 'Mask':\n",
    "                        cv2.rectangle(img, (x,y), (x+w, y+h), (0,255,0), 4)\n",
    "                    else:\n",
    "                        cv2.rectangle(img, (x,y), (x+w, y+h), (0,0,255), 4)\n",
    "                    cv2.putText(img, n, (x, y), font, 1, (244, 250, 250), 2)\n",
    "                if len(data)<250 and not predicting:\n",
    "                    data.append(face)\n",
    "            cv2.imshow(\"Seal's Face Mask Detector\", img)\n",
    "            if cv2.waitKey(10) == 27 or len(data)>=250:\n",
    "                break\n",
    "    releasecam(capture)\n",
    "    cv2.destroyAllWindows()\n",
    "    if not predicting:\n",
    "        return data\n"
   ]
  },
  {
   "cell_type": "markdown",
   "metadata": {},
   "source": [
    "# Storing Unmasked Data"
   ]
  },
  {
   "cell_type": "code",
   "execution_count": 232,
   "metadata": {},
   "outputs": [],
   "source": [
    "def unmasked(haar_data):\n",
    "    print(\"Don't Wear A Mask. Press Escape to Exit.\")\n",
    "    data = facedata(haar_data, data=[])\n",
    "    np.save('without_mask.npy', data)\n",
    "    return True"
   ]
  },
  {
   "cell_type": "markdown",
   "metadata": {},
   "source": [
    "# Storing Masked Data"
   ]
  },
  {
   "cell_type": "code",
   "execution_count": 233,
   "metadata": {},
   "outputs": [],
   "source": [
    "def masked(haar_data):\n",
    "    print(\"Wear A Mask. Press Escape to Exit.\")\n",
    "    data = facedata(haar_data, data=[])\n",
    "    np.save('with_mask.npy', data)\n",
    "    return True"
   ]
  },
  {
   "cell_type": "markdown",
   "metadata": {},
   "source": [
    "# Loading the saved files"
   ]
  },
  {
   "cell_type": "code",
   "execution_count": 234,
   "metadata": {},
   "outputs": [],
   "source": [
    "def load():\n",
    "    global with_mask, without_mask\n",
    "    with_mask = np.load(\"with_mask.npy\")\n",
    "    without_mask = np.load(\"without_mask.npy\")"
   ]
  },
  {
   "cell_type": "markdown",
   "metadata": {},
   "source": [
    "# Reshaping the saved files"
   ]
  },
  {
   "cell_type": "code",
   "execution_count": 235,
   "metadata": {},
   "outputs": [],
   "source": [
    "def reshape():\n",
    "    global with_mask, without_mask\n",
    "    with_mask = with_mask.reshape(250, 50*50*3)\n",
    "    without_mask = without_mask.reshape(250, 50*50*3)"
   ]
  },
  {
   "cell_type": "markdown",
   "metadata": {},
   "source": [
    "# Combining the Reshaped Files"
   ]
  },
  {
   "cell_type": "code",
   "execution_count": 236,
   "metadata": {},
   "outputs": [],
   "source": [
    "def combine(lst1, lst2):\n",
    "    X = np.r_[lst1, lst2]\n",
    "    return X"
   ]
  },
  {
   "cell_type": "markdown",
   "metadata": {},
   "source": [
    "# Segregating the Dependent Variable "
   ]
  },
  {
   "cell_type": "code",
   "execution_count": 237,
   "metadata": {},
   "outputs": [],
   "source": [
    "def divide(X):\n",
    "    labels = np.zeros(X.shape[0])\n",
    "    labels[250:] = 1.0\n",
    "    return labels"
   ]
  },
  {
   "cell_type": "markdown",
   "metadata": {},
   "source": [
    "# Fitting Data"
   ]
  },
  {
   "cell_type": "code",
   "execution_count": 238,
   "metadata": {},
   "outputs": [],
   "source": [
    "def fit(X, n=3):\n",
    "    pca = PCA(n_components=n)\n",
    "    X = pca.fit_transform(X)\n",
    "    return X"
   ]
  },
  {
   "cell_type": "markdown",
   "metadata": {},
   "source": [
    "# Training"
   ]
  },
  {
   "cell_type": "code",
   "execution_count": 239,
   "metadata": {},
   "outputs": [],
   "source": [
    "def train(x_train, y_train):\n",
    "    global svm\n",
    "    svm = SVC()\n",
    "    x_train, x_useless, y_train, y_useless = train_test_split(x_train, y_train, test_size=0.01)\n",
    "    svm.fit(x_train, y_train)\n",
    "    return svm"
   ]
  },
  {
   "cell_type": "markdown",
   "metadata": {},
   "source": [
    "# Predicting"
   ]
  },
  {
   "cell_type": "code",
   "execution_count": 240,
   "metadata": {},
   "outputs": [],
   "source": [
    "def predict(var, svm):\n",
    "    y_pred = svm.predict(var)\n",
    "    return y_pred"
   ]
  },
  {
   "cell_type": "markdown",
   "metadata": {},
   "source": [
    "# Calculating Accuracy"
   ]
  },
  {
   "cell_type": "code",
   "execution_count": 241,
   "metadata": {},
   "outputs": [],
   "source": [
    "def accuracy(y_train, y_pred):\n",
    "    return accuracy_score(y_train, y_pred)\n"
   ]
  },
  {
   "cell_type": "markdown",
   "metadata": {},
   "source": [
    "# Prepare Predictor"
   ]
  },
  {
   "cell_type": "code",
   "execution_count": 242,
   "metadata": {},
   "outputs": [
    {
     "name": "stdout",
     "output_type": "stream",
     "text": [
      "[[255   0 255 ... 216  25 216]\n",
      " [255   0 255 ... 220  14 220]\n",
      " [255   0 255 ... 207  18 207]\n",
      " ...\n",
      " [255   0 255 ... 230  11 229]\n",
      " [255   0 255 ... 232  10 230]\n",
      " [255   0 255 ... 232  10 232]]\n",
      "[[-1541.30027969   145.5810735   -422.89664348]\n",
      " [ -855.03148316  -353.89967018    11.47190882]\n",
      " [ -682.2315755   -398.25256441  -604.33713846]\n",
      " ...\n",
      " [ 1809.37081769  -562.99682646   -53.01232669]\n",
      " [ 1798.63099205  -561.69779542    35.3501228 ]\n",
      " [ 1805.79560396  -558.05052339   102.9328721 ]]\n",
      "500\n"
     ]
    }
   ],
   "source": [
    "def preparepredictor():\n",
    "    load()\n",
    "    reshape()\n",
    "    X = combine(with_mask, without_mask)\n",
    "    print(X)\n",
    "    labels = divide(X)\n",
    "    X = fit(X)\n",
    "    svm = train(X, labels)\n",
    "    print(X)\n",
    "    print(len(X))\n",
    "preparepredictor()"
   ]
  },
  {
   "cell_type": "markdown",
   "metadata": {},
   "source": [
    "# Driver Function"
   ]
  },
  {
   "cell_type": "code",
   "execution_count": 243,
   "metadata": {},
   "outputs": [],
   "source": [
    "def resetconfirmation():\n",
    "    return \"n\"\n",
    "def main(ispredicting  = False):\n",
    "    if not ispredicting:\n",
    "        url = \"https://raw.githubusercontent.com/opencv/opencv/22f0bcaf8f4fb406ae251830cf99b7ea05de40e4/data/haarcascades/haarcascade_frontalface_default.xml\"\n",
    "        haar = gethaar(url)\n",
    "        savehaar(haar)\n",
    "        haar_data = classify()\n",
    "        confirm = resetconfirmation()\n",
    "        while confirm.lower() != \"y\":\n",
    "            print(\"Remove a Mask if you are wearing one.\\nSit In a well-lit environment.\\nPress Y to confirm: \")\n",
    "            confirm = input()\n",
    "        unmasked(haar_data)\n",
    "        confirm = resetconfirmation()\n",
    "        while confirm.lower() != \"y\":\n",
    "            print(\"Wear a Mask if you are not wearing one.\\nSit In a well-lit environment.\\nPress Y to confirm: \")\n",
    "            confirm = input()\n",
    "        masked(haar_data)\n",
    "    else:\n",
    "        haar_data = classify()\n",
    "        facedata(haar_data, [], predicting=ispredicting)\n"
   ]
  },
  {
   "cell_type": "markdown",
   "metadata": {},
   "source": [
    "# Calling Main"
   ]
  },
  {
   "cell_type": "code",
   "execution_count": 244,
   "metadata": {},
   "outputs": [
    {
     "name": "stdout",
     "output_type": "stream",
     "text": [
      "Remove a Mask if you are wearing one.\n",
      "Sit In a well-lit environment.\n",
      "Press Y to confirm: \n",
      "Don't Wear A Mask. Press Escape to Exit.\n",
      "Wear a Mask if you are not wearing one.\n",
      "Sit In a well-lit environment.\n",
      "Press Y to confirm: \n",
      "Wear A Mask. Press Escape to Exit.\n"
     ]
    }
   ],
   "source": [
    "if __name__ == \"__main__\":\n",
    "    for i in range(2):\n",
    "        main(ispredicting=(False if i%2==0 else True))"
   ]
  }
 ],
 "metadata": {
  "interpreter": {
   "hash": "38d51dd8e8d25c2b4859ddf5fde4d8615b38902fd48d30a19bf46ddb81d406a6"
  },
  "kernelspec": {
   "display_name": "Python 3.9.9 64-bit (windows store)",
   "language": "python",
   "name": "python3"
  },
  "language_info": {
   "codemirror_mode": {
    "name": "ipython",
    "version": 3
   },
   "file_extension": ".py",
   "mimetype": "text/x-python",
   "name": "python",
   "nbconvert_exporter": "python",
   "pygments_lexer": "ipython3",
   "version": "3.9.9"
  },
  "orig_nbformat": 4
 },
 "nbformat": 4,
 "nbformat_minor": 2
}
